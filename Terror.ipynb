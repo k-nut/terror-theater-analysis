{
 "cells": [
  {
   "cell_type": "code",
   "execution_count": 10,
   "metadata": {
    "collapsed": false
   },
   "outputs": [],
   "source": [
    "import pandas as pd\n",
    "import re\n",
    "import json\n",
    "\n",
    "def get_votes(text):\n",
    "    pattern = r\"([0-9]+) Freispruch - ([0-9]+) Schuldig\"\n",
    "    results = re.search(pattern, text)\n",
    "    try:\n",
    "        return int(results.group(1)), int(results.group(2))\n",
    "    except AttributeError:\n",
    "        return None, None\n",
    "\n"
   ]
  },
  {
   "cell_type": "code",
   "execution_count": 50,
   "metadata": {
    "collapsed": false
   },
   "outputs": [],
   "source": [
    "%matplotlib inline\n",
    "import seaborn as sns\n",
    "import codecs\n",
    "from geopy.geocoders import Nominatim\n",
    "from geopy.exc import GeocoderServiceError\n",
    "import csv\n",
    "geolocator = Nominatim()\n",
    "\n",
    "with open(\"/Users/knut/projects/terror/buehnen.json\") as infile:\n",
    "    data = json.load(infile)\n",
    "\n",
    "results = []\n",
    "for line in data:\n",
    "    entry = {}\n",
    "    entry[\"latitude\"], entry[\"longitude\"] = line[0]\n",
    "    entry[\"votes_free\"], entry[\"votes_jail\"] = get_votes(line[2])\n",
    "    entry[\"theater\"] = line[1]\n",
    "    if entry[\"votes_free\"] is not None:\n",
    "        entry[\"ratio_free\"] = entry[\"votes_free\"] / float(entry[\"votes_free\"] + entry[\"votes_jail\"])\n",
    "        results.append(entry)\n",
    "        \n",
    "def encode_or_not(i):\n",
    "    if isinstance(i, basestring):\n",
    "        return i.encode('utf8')\n",
    "    else:\n",
    "        return i\n",
    "        \n",
    "with open(\"/Users/knut/projects/terror/results.csv\", 'w') as outfile:\n",
    "    fieldnames = results[0].keys()\n",
    "    writer = csv.DictWriter(outfile, fieldnames=fieldnames)\n",
    "    writer.writeheader()\n",
    "    for line in results:\n",
    "        writer.writerow({k:encode_or_not(v) for k,v in line.items()})"
   ]
  },
  {
   "cell_type": "code",
   "execution_count": 61,
   "metadata": {
    "collapsed": false
   },
   "outputs": [
    {
     "data": {
      "text/html": [
       "<div>\n",
       "<table border=\"1\" class=\"dataframe\">\n",
       "  <thead>\n",
       "    <tr style=\"text-align: right;\">\n",
       "      <th></th>\n",
       "      <th>votes_free</th>\n",
       "      <th>ratio_free</th>\n",
       "      <th>longitude</th>\n",
       "      <th>latitude</th>\n",
       "      <th>votes_jail</th>\n",
       "      <th>population</th>\n",
       "    </tr>\n",
       "  </thead>\n",
       "  <tbody>\n",
       "    <tr>\n",
       "      <th>votes_free</th>\n",
       "      <td>1.000000</td>\n",
       "      <td>0.150329</td>\n",
       "      <td>-0.199568</td>\n",
       "      <td>-0.130975</td>\n",
       "      <td>0.966563</td>\n",
       "      <td>0.282945</td>\n",
       "    </tr>\n",
       "    <tr>\n",
       "      <th>ratio_free</th>\n",
       "      <td>0.150329</td>\n",
       "      <td>1.000000</td>\n",
       "      <td>-0.209398</td>\n",
       "      <td>0.184821</td>\n",
       "      <td>-0.030439</td>\n",
       "      <td>-0.286043</td>\n",
       "    </tr>\n",
       "    <tr>\n",
       "      <th>longitude</th>\n",
       "      <td>-0.199568</td>\n",
       "      <td>-0.209398</td>\n",
       "      <td>1.000000</td>\n",
       "      <td>0.269620</td>\n",
       "      <td>-0.089860</td>\n",
       "      <td>0.274430</td>\n",
       "    </tr>\n",
       "    <tr>\n",
       "      <th>latitude</th>\n",
       "      <td>-0.130975</td>\n",
       "      <td>0.184821</td>\n",
       "      <td>0.269620</td>\n",
       "      <td>1.000000</td>\n",
       "      <td>-0.145993</td>\n",
       "      <td>0.022033</td>\n",
       "    </tr>\n",
       "    <tr>\n",
       "      <th>votes_jail</th>\n",
       "      <td>0.966563</td>\n",
       "      <td>-0.030439</td>\n",
       "      <td>-0.089860</td>\n",
       "      <td>-0.145993</td>\n",
       "      <td>1.000000</td>\n",
       "      <td>0.400844</td>\n",
       "    </tr>\n",
       "    <tr>\n",
       "      <th>population</th>\n",
       "      <td>0.282945</td>\n",
       "      <td>-0.286043</td>\n",
       "      <td>0.274430</td>\n",
       "      <td>0.022033</td>\n",
       "      <td>0.400844</td>\n",
       "      <td>1.000000</td>\n",
       "    </tr>\n",
       "  </tbody>\n",
       "</table>\n",
       "</div>"
      ],
      "text/plain": [
       "            votes_free  ratio_free  longitude  latitude  votes_jail  \\\n",
       "votes_free    1.000000    0.150329  -0.199568 -0.130975    0.966563   \n",
       "ratio_free    0.150329    1.000000  -0.209398  0.184821   -0.030439   \n",
       "longitude    -0.199568   -0.209398   1.000000  0.269620   -0.089860   \n",
       "latitude     -0.130975    0.184821   0.269620  1.000000   -0.145993   \n",
       "votes_jail    0.966563   -0.030439  -0.089860 -0.145993    1.000000   \n",
       "population    0.282945   -0.286043   0.274430  0.022033    0.400844   \n",
       "\n",
       "            population  \n",
       "votes_free    0.282945  \n",
       "ratio_free   -0.286043  \n",
       "longitude     0.274430  \n",
       "latitude      0.022033  \n",
       "votes_jail    0.400844  \n",
       "population    1.000000  "
      ]
     },
     "metadata": {},
     "output_type": "display_data"
    },
    {
     "name": "stdout",
     "output_type": "stream",
     "text": [
      "cdu 0.592157456117\n",
      "spd 0.58564370924\n",
      "fdp 0.5137142291\n",
      "gruen 0.6669691379\n"
     ]
    },
    {
     "data": {
      "image/png": "[encoded data removed]",
      "text/plain": [
       "<matplotlib.figure.Figure at 0x10d0e88d0>"
      ]
     },
     "metadata": {},
     "output_type": "display_data"
    }
   ],
   "source": [
    "from IPython.display import display\n",
    "\n",
    "df = pd.read_csv(\"/Users/knut/projects/terror/results_with_population_and_party.csv\")\n",
    "\n",
    "sns.regplot(x=\"population\", y=\"ratio_free\",\n",
    "            data=df[df['population'] < 1000000])\n",
    "\n",
    "display(df.corr())\n",
    "\n",
    "for party in df['party'].unique():\n",
    "    mean_free_ratio = df[df['party'] == party]['ratio_free'].mean()\n",
    "    print party, mean_free_ratio\n",
    "    \n"
   ]
  }
 ],
 "metadata": {
  "kernelspec": {
   "display_name": "Python 2",
   "language": "python",
   "name": "python2"
  },
  "language_info": {
   "codemirror_mode": {
    "name": "ipython",
    "version": 2
   },
   "file_extension": ".py",
   "mimetype": "text/x-python",
   "name": "python",
   "nbconvert_exporter": "python",
   "pygments_lexer": "ipython2",
   "version": "2.7.12"
  }
 },
 "nbformat": 4,
 "nbformat_minor": 0
}
